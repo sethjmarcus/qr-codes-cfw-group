{
 "cells": [
  {
   "cell_type": "code",
   "execution_count": 80,
   "id": "cardiovascular-sphere",
   "metadata": {},
   "outputs": [],
   "source": [
    "import qrcode\n",
    "from csv import DictReader"
   ]
  },
  {
   "cell_type": "code",
   "execution_count": 85,
   "id": "framed-definition",
   "metadata": {},
   "outputs": [],
   "source": [
    "all_file_paths = [[\"./fv_csv_files/master.csv\", \"./fv_png_files/\"], [\"./cs_csv_files/master.csv\", \"./cs_png_files/\"]]"
   ]
  },
  {
   "cell_type": "code",
   "execution_count": 87,
   "id": "unlike-truck",
   "metadata": {},
   "outputs": [],
   "source": [
    "for file_path in all_file_paths:\n",
    "    with open(file_path[0], 'r') as read_obj:\n",
    "        csv_dict_reader = DictReader(read_obj)\n",
    "        for row in csv_dict_reader:\n",
    "            qr = qrcode.QRCode(\n",
    "                version=1,\n",
    "                error_correction=qrcode.constants.ERROR_CORRECT_L,\n",
    "                box_size=5,\n",
    "                border=4)\n",
    "            qr.add_data(row)\n",
    "            qr.make(fit=True)\n",
    "            img = qr.make_image(fill_color=\"black\", back_color=\"white\")\n",
    "            img.save(file_path[1] + row['Computer Name'] +'.png') "
   ]
  }
 ],
 "metadata": {
  "kernelspec": {
   "display_name": "Python 3",
   "language": "python",
   "name": "python3"
  },
  "language_info": {
   "codemirror_mode": {
    "name": "ipython",
    "version": 3
   },
   "file_extension": ".py",
   "mimetype": "text/x-python",
   "name": "python",
   "nbconvert_exporter": "python",
   "pygments_lexer": "ipython3",
   "version": "3.8.5"
  }
 },
 "nbformat": 4,
 "nbformat_minor": 5
}
